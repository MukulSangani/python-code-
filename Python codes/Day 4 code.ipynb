{
 "cells": [
  {
   "cell_type": "code",
   "execution_count": null,
   "metadata": {},
   "outputs": [],
   "source": [
    "import numpy as np\n",
    "np.__version__"
   ]
  },
  {
   "cell_type": "code",
   "execution_count": null,
   "metadata": {},
   "outputs": [],
   "source": [
    "a=np.array([1,2,3])\n",
    "print(a)\n",
    "print(type(a))"
   ]
  },
  {
   "cell_type": "code",
   "execution_count": null,
   "metadata": {},
   "outputs": [],
   "source": [
    "a=np.array([(1,2,3),(4,5,6)])\n",
    "print(a)\n",
    "print(a.ndim)\n",
    "print(a.shape)"
   ]
  },
  {
   "cell_type": "code",
   "execution_count": null,
   "metadata": {},
   "outputs": [],
   "source": [
    "# Indexing and slicing\n",
    "a=np.array([(1,2,3,4),(3,4,5,6),(8,9,7,10)])\n",
    "print(a)\n",
    "print(a[0,2])\n",
    "print(a.ndim)\n",
    "print(a.shape)\n",
    "print(a[:,2])\n",
    "print()\n",
    "print(a[0:2,])\n"
   ]
  },
  {
   "cell_type": "code",
   "execution_count": null,
   "metadata": {
    "scrolled": true
   },
   "outputs": [],
   "source": [
    "#a=np.linspace(1,10,5)\n",
    "#print(a)\n",
    "a=np.arange(0,26,5)\n",
    "print(a)\n",
    "\n",
    "a=np.random.random((3,4))\n",
    "print(a)\n",
    "\n",
    "a=np.random.random_integers(50,100,(3,4))\n",
    "print(a)\n",
    "a=np.random.randint(50,100,(3,4))\n",
    "print(a)\n"
   ]
  },
  {
   "cell_type": "code",
   "execution_count": null,
   "metadata": {},
   "outputs": [],
   "source": [
    "np.random.uniform(50.5,100,(2,3))"
   ]
  },
  {
   "cell_type": "code",
   "execution_count": null,
   "metadata": {},
   "outputs": [],
   "source": [
    "# aggregation function \n",
    "a=np.array([(8,9),(10,11),(12,13)])\n",
    "print(a.min())\n",
    "print(a.max())\n",
    "print(a.sum())\n",
    "print(a.mean())\n",
    "print(np.mean(a))"
   ]
  },
  {
   "cell_type": "code",
   "execution_count": null,
   "metadata": {},
   "outputs": [],
   "source": [
    "# math function \n",
    "a=np.array([(1,0,3),(3,4,5)])\n",
    "print(np.sqrt(a).round(2))\n",
    "print(np.std(a).round(2))\n",
    "print(np.square(a))\n",
    "print(np.log(a))\n",
    "\n",
    "b=np.sqrt(a)\n",
    "print(b.round(2))\n"
   ]
  },
  {
   "cell_type": "code",
   "execution_count": null,
   "metadata": {},
   "outputs": [],
   "source": [
    "x=np.array([(1,2),(3,4)])\n",
    "y=np.array([(5,6),(3,4)])\n",
    "print(x)\n",
    "print(y)\n",
    "print(x+y)\n",
    "print(x-y)\n",
    "print(x*y)\n",
    "print(x%y)\n",
    "print(x@y)\n",
    "# print(np.dot(x,y))\n",
    "# print(np.add(x,y))\n",
    "# print(np.multiply(x,y))\n",
    "# print(np.divide(x,y))\n",
    "# print(np.substract(x,y))\n",
    "# print(np.remainder(x,y))"
   ]
  },
  {
   "cell_type": "code",
   "execution_count": null,
   "metadata": {},
   "outputs": [],
   "source": [
    "a=np.array([(1,2),(2,4)])\n",
    "a[0,1]=4\n",
    "print(a)\n",
    "print(np.log10(a).round(2))"
   ]
  },
  {
   "cell_type": "code",
   "execution_count": null,
   "metadata": {},
   "outputs": [],
   "source": [
    "my_array=np.genfromtxt(\"E:\\data\\data in array.txt\",skip_header=1,delimiter=\",\"\n",
    "                       ,filling_values=0,unpack=True,dtype=np.int)    # default in dtype=np.float\n",
    "                        #\n",
    "print(my_array)"
   ]
  },
  {
   "cell_type": "code",
   "execution_count": null,
   "metadata": {},
   "outputs": [],
   "source": [
    "my_array=np.genfromtxt(\"E:\\data\\data in array.txt\",skip_header=1,delimiter=\",\"\n",
    "                       ,filling_values=0,unpack=True,dtype=np.int)    # default in dtype=np.float\n",
    "print(my_array)"
   ]
  },
  {
   "cell_type": "code",
   "execution_count": null,
   "metadata": {},
   "outputs": [],
   "source": [
    "my_array=np.genfromtxt(\"E:\\data\\data aray.txt\",skip_header=1,delimiter=\",\"\n",
    "                       ,filling_values=0,unpack=False,dtype=np.str)    # default in dtype=np.float\n",
    "print(my_array)"
   ]
  },
  {
   "cell_type": "code",
   "execution_count": null,
   "metadata": {},
   "outputs": [],
   "source": [
    "import pandas as pd"
   ]
  },
  {
   "cell_type": "markdown",
   "metadata": {},
   "source": [
    "# Series"
   ]
  },
  {
   "cell_type": "code",
   "execution_count": null,
   "metadata": {},
   "outputs": [],
   "source": [
    "import numpy as np\n",
    "data=np.array([101,102,103,104])\n",
    "s=pd.Series(data)\n",
    "print(s)\n",
    "print()\n",
    "\n",
    "print(s[1])\n",
    "s[1]=100\n",
    "s[6]=105\n",
    "print(s)"
   ]
  },
  {
   "cell_type": "code",
   "execution_count": null,
   "metadata": {},
   "outputs": [],
   "source": [
    "data=[101,102,103,104]\n",
    "t=pd.Series(data,index=[\"a\",\"b\",\"c\",\"d\"])\n",
    "print(t)\n",
    "print(t[\"b\"])\n",
    "print(t[1])"
   ]
  },
  {
   "cell_type": "code",
   "execution_count": null,
   "metadata": {},
   "outputs": [],
   "source": [
    "arr=np.arange(1001,1005,1)\n",
    "s=pd.Series(data,index=arr)\n",
    "print(s)\n",
    "print(s[1002])\n",
    "#print(s[1])"
   ]
  },
  {
   "cell_type": "code",
   "execution_count": null,
   "metadata": {
    "scrolled": true
   },
   "outputs": [],
   "source": [
    "data={\"a\":0.,\"b\":1.,\"c\":2.}\n",
    "s=pd.Series(data)\n",
    "print(s)\n",
    "\n",
    "print(s[\"a\"])\n",
    "print(s)\n",
    "print(s[-2])   #  it also allows negative indexing \n",
    "\n",
    "data={1:2.0,2:3.0,3:2.5}\n",
    "s=pd.Series(data)\n",
    "print(s)\n",
    "print(s[1:])"
   ]
  },
  {
   "cell_type": "markdown",
   "metadata": {},
   "source": [
    "# Data Frames"
   ]
  },
  {
   "cell_type": "code",
   "execution_count": null,
   "metadata": {},
   "outputs": [],
   "source": [
    "data=[[\"Mike\",40],[\"Sam\",46,],[\"Joe\",36]]\n",
    "df=pd.DataFrame(data,columns=[\"Names\",\"Age\"])\n",
    "df\n",
    "\n",
    "#df.columns=[\"Names\",\"Age\"]   #separately labeing columns names\n",
    "#print(df)"
   ]
  },
  {
   "cell_type": "code",
   "execution_count": null,
   "metadata": {},
   "outputs": [],
   "source": [
    "# indexed data frame from dict\n",
    "data={\"Names\":[\"Mike\",\"Sam\",\"Clark\"],\"Age\":[20,25,23]}\n",
    "df=pd.DataFrame(data)\n",
    "print(df)\n",
    "df\n",
    "\n",
    "df=pd.DataFrame(data,index=[\"rank 1\",\"rank 2\",\"rank 3\"])\n",
    "#print(df)\n",
    "df"
   ]
  },
  {
   "cell_type": "code",
   "execution_count": null,
   "metadata": {},
   "outputs": [],
   "source": [
    "df[\"Names\"] # shortcut way to call the names from the dataframe"
   ]
  },
  {
   "cell_type": "code",
   "execution_count": null,
   "metadata": {},
   "outputs": [],
   "source": [
    "df[[\"Names\",\"Age\"]]  # shortcut way to call the whole dataframe or some multiple columns data from the dataframe"
   ]
  },
  {
   "cell_type": "code",
   "execution_count": null,
   "metadata": {},
   "outputs": [],
   "source": [
    "df[\"Address\"]=[\"Mumbai\",\"Pune\",\"Bangalore\"]\n",
    "df"
   ]
  },
  {
   "cell_type": "code",
   "execution_count": null,
   "metadata": {},
   "outputs": [],
   "source": [
    "df.columns"
   ]
  },
  {
   "cell_type": "code",
   "execution_count": null,
   "metadata": {},
   "outputs": [],
   "source": [
    "df=df[[\"Names\",\"Address\",\"Age\"]]        # realigning the columns of the dataframe\n",
    "df     "
   ]
  },
  {
   "cell_type": "code",
   "execution_count": null,
   "metadata": {},
   "outputs": [],
   "source": [
    "df[\"Newcol\"]=[5,10,16]\n",
    "\n",
    "\n",
    "\n",
    "df[\"Revised_col\"]=df[\"Newcol\"]*2\n",
    "#print(df)\n",
    "df"
   ]
  },
  {
   "cell_type": "code",
   "execution_count": null,
   "metadata": {},
   "outputs": [],
   "source": [
    "# deleting a column\n",
    "del df[\"Newcol\"]\n",
    "#print(df)\n",
    "df"
   ]
  },
  {
   "cell_type": "code",
   "execution_count": null,
   "metadata": {},
   "outputs": [],
   "source": [
    "df=df.drop(\"rank 1\")                      #axis=0---->obs\n",
    "df=df.drop(\"Revised_col\",axis=1)          #axis=1---->var\n",
    "#print(df)\n",
    "df"
   ]
  },
  {
   "cell_type": "code",
   "execution_count": null,
   "metadata": {},
   "outputs": [],
   "source": [
    "\n",
    "# accessing data ekements using indexes and labels\n",
    "#df.loc[inclusive:inclusive]  #location  with the help of accessing labels\n",
    "#df.iloc[inclusive:exclusive]       # iloc is used with the help of index numbers\n",
    "print(df.loc[\"rank 2\"])\n",
    "print()\n",
    "print(df.loc[\"rank 2\":\"rank 3\"])\n",
    "print()\n",
    "print(df.iloc[0:1])\n",
    "print()\n",
    "#print(df)\n",
    "\n",
    "print(df.loc[\"rank 2\":\"rank 3\",[\"Address\",\"Age\"]])\n",
    "print()\n",
    "print(df.iloc[:,[1,2]])"
   ]
  },
  {
   "cell_type": "code",
   "execution_count": null,
   "metadata": {},
   "outputs": [],
   "source": [
    "df"
   ]
  },
  {
   "cell_type": "code",
   "execution_count": null,
   "metadata": {},
   "outputs": [],
   "source": [
    "# saving df to a  file\n",
    "#df.to_csv(\"E:\\data\\sampledf.csv\",index=True,header=True)   ## .txt as well\n",
    "\n",
    "df.to_excel(\"E:\\data\\sampledf.xlsx\", index=False,header=True) # define pathe for every txt,xlsxx,and csv file to save...\n",
    "#df.to_csv(\"E:\\data\\sampledf.txt\", index=True,header=True)\n",
    "print(\"Done\")"
   ]
  },
  {
   "cell_type": "code",
   "execution_count": null,
   "metadata": {},
   "outputs": [],
   "source": [
    "# reading  df from a file\n",
    "df2=pd.read_csv(\"E:\\data\\sampledf.csv\", index_col=0,header=0)\n",
    "df2"
   ]
  },
  {
   "cell_type": "code",
   "execution_count": null,
   "metadata": {},
   "outputs": [],
   "source": [
    "df3=pd.read_excel(\"E:\\data\\sampledf.xlsx\",header=0)\n",
    "df3"
   ]
  },
  {
   "cell_type": "code",
   "execution_count": null,
   "metadata": {},
   "outputs": [],
   "source": [
    "# preparing the data \n",
    "print(df.dtypes) # datatypes for all the variables\n",
    "print()\n",
    "print(df.Age.dtype)  # data type for a single vaiable\n",
    "print()\n",
    "print(df.shape)   # dimensions for the whole data set\n",
    "print()\n",
    "df.info()   # information the dataset"
   ]
  },
  {
   "cell_type": "code",
   "execution_count": null,
   "metadata": {},
   "outputs": [],
   "source": [
    "df.set_value(\"rank 2\",[\"Names\",\"Age\"],[\"Kabir\",26])\n"
   ]
  },
  {
   "cell_type": "code",
   "execution_count": null,
   "metadata": {},
   "outputs": [],
   "source": [
    "df.drop(\"rank 1\")"
   ]
  },
  {
   "cell_type": "code",
   "execution_count": null,
   "metadata": {},
   "outputs": [],
   "source": [
    "df.set_value(\"rank 1\",[\"Names\",\"Age\"],[\"Kabir\",26],)  # adding rows or data to the dataset\n"
   ]
  },
  {
   "cell_type": "code",
   "execution_count": null,
   "metadata": {},
   "outputs": [],
   "source": [
    "df.loc[(df.Names==\"Kabir\") & (df.Address==\"Pune\"),[\"Address\",\"Names\"]]=[\"Delhi\",\"Ranbir\"] #conditonal replacement of data\n",
    "                                                                                          # into the table "
   ]
  },
  {
   "cell_type": "code",
   "execution_count": null,
   "metadata": {},
   "outputs": [],
   "source": [
    "df"
   ]
  },
  {
   "cell_type": "code",
   "execution_count": null,
   "metadata": {},
   "outputs": [],
   "source": [
    "df.sort_values([\"Names\",\"Address\"],ascending=False) # priority given to the name while sorting the data from the table or \n",
    " # any occurance of the repeting data(names) into the primary varibles then the sorting comes into play   "
   ]
  },
  {
   "cell_type": "code",
   "execution_count": null,
   "metadata": {},
   "outputs": [],
   "source": [
    "df.sort_values([\"Age\"],ascending=False)"
   ]
  },
  {
   "cell_type": "code",
   "execution_count": null,
   "metadata": {},
   "outputs": [],
   "source": [
    "df.set_value(\"rank 0\",[\"Names\",\"Address\",\"Age\"],[\"Ben\",\"Mumbai\",22])\n"
   ]
  },
  {
   "cell_type": "code",
   "execution_count": null,
   "metadata": {},
   "outputs": [],
   "source": [
    "df.sort_values([\"Age\"],ascending=False)"
   ]
  },
  {
   "cell_type": "code",
   "execution_count": null,
   "metadata": {},
   "outputs": [],
   "source": [
    "df.sort_index(axis=1,ascending=True)"
   ]
  }
 ],
 "metadata": {
  "kernelspec": {
   "display_name": "Python 3",
   "language": "python",
   "name": "python3"
  },
  "language_info": {
   "codemirror_mode": {
    "name": "ipython",
    "version": 3
   },
   "file_extension": ".py",
   "mimetype": "text/x-python",
   "name": "python",
   "nbconvert_exporter": "python",
   "pygments_lexer": "ipython3",
   "version": "3.7.4"
  }
 },
 "nbformat": 4,
 "nbformat_minor": 2
}
