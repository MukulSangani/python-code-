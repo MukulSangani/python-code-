{
 "cells": [
  {
   "cell_type": "code",
   "execution_count": 3,
   "metadata": {},
   "outputs": [
    {
     "name": "stdout",
     "output_type": "stream",
     "text": [
      "      Name Gender\n",
      "Stdid            \n",
      "1        A      M\n",
      "3        C      F\n",
      "4        D      F\n",
      "5        E      M\n",
      "7        G      M\n",
      "       Marks\n",
      "Stdid       \n",
      "1         23\n",
      "2         45\n",
      "4         32\n",
      "5         44\n",
      "6         36\n"
     ]
    }
   ],
   "source": [
    "import pandas as pd\n",
    "df1=pd.read_excel(\"F:\\download\\std1.xlsx\",index_col=0,header=0)\n",
    "df2=pd.read_excel(\"F:\\download\\std2.xlsx\",index_col=0,header=0)\n",
    "print(df1)\n",
    "print(df2)"
   ]
  },
  {
   "cell_type": "code",
   "execution_count": 4,
   "metadata": {},
   "outputs": [
    {
     "name": "stdout",
     "output_type": "stream",
     "text": [
      "      Name Gender  Marks\n",
      "Stdid                   \n",
      "1        A      M     23\n",
      "4        D      F     32\n",
      "5        E      M     44\n"
     ]
    }
   ],
   "source": [
    "df3=pd.merge(df1,df2,on=\"Stdid\")   # merging two dataframe\n",
    "print(df3)"
   ]
  },
  {
   "cell_type": "code",
   "execution_count": 5,
   "metadata": {},
   "outputs": [
    {
     "name": "stdout",
     "output_type": "stream",
     "text": [
      "      Name Gender  Marks\n",
      "Stdid                   \n",
      "1        A      M   23.0\n",
      "3        C      F    NaN\n",
      "4        D      F   32.0\n",
      "5        E      M   44.0\n",
      "7        G      M    NaN\n"
     ]
    }
   ],
   "source": [
    "df3=pd.merge(df1,df2,on=\"Stdid\",how=\"left\")  # left join with two dataframe\n",
    "print(df3)"
   ]
  },
  {
   "cell_type": "code",
   "execution_count": 6,
   "metadata": {
    "scrolled": true
   },
   "outputs": [
    {
     "name": "stdout",
     "output_type": "stream",
     "text": [
      "      Name Gender  Marks\n",
      "Stdid                   \n",
      "1        A      M     23\n",
      "4        D      F     32\n",
      "5        E      M     44\n",
      "2      NaN    NaN     45\n",
      "6      NaN    NaN     36\n"
     ]
    }
   ],
   "source": [
    "df3=pd.merge(df1,df2,on=\"Stdid\",how=\"right\") # right join with two dataframe\n",
    "print(df3)"
   ]
  },
  {
   "cell_type": "code",
   "execution_count": 9,
   "metadata": {},
   "outputs": [
    {
     "name": "stdout",
     "output_type": "stream",
     "text": [
      "      Name Gender  Marks      _merge\n",
      "Stdid                               \n",
      "1        A      M   23.0        both\n",
      "3        C      F    NaN   left_only\n",
      "4        D      F   32.0        both\n",
      "5        E      M   44.0        both\n",
      "7        G      M    NaN   left_only\n",
      "2      NaN    NaN   45.0  right_only\n",
      "6      NaN    NaN   36.0  right_only\n"
     ]
    }
   ],
   "source": [
    "df3=pd.merge(df1,df2,on=\"Stdid\",how=\"outer\" ,indicator=True)  # outr join with two dataframe\n",
    "print(df3)"
   ]
  },
  {
   "cell_type": "code",
   "execution_count": 12,
   "metadata": {},
   "outputs": [
    {
     "data": {
      "text/html": [
       "<div>\n",
       "<style scoped>\n",
       "    .dataframe tbody tr th:only-of-type {\n",
       "        vertical-align: middle;\n",
       "    }\n",
       "\n",
       "    .dataframe tbody tr th {\n",
       "        vertical-align: top;\n",
       "    }\n",
       "\n",
       "    .dataframe thead th {\n",
       "        text-align: right;\n",
       "    }\n",
       "</style>\n",
       "<table border=\"1\" class=\"dataframe\">\n",
       "  <thead>\n",
       "    <tr style=\"text-align: right;\">\n",
       "      <th></th>\n",
       "      <th>Name</th>\n",
       "      <th>Gender</th>\n",
       "    </tr>\n",
       "    <tr>\n",
       "      <th>Stdid</th>\n",
       "      <th></th>\n",
       "      <th></th>\n",
       "    </tr>\n",
       "  </thead>\n",
       "  <tbody>\n",
       "    <tr>\n",
       "      <td>1</td>\n",
       "      <td>a</td>\n",
       "      <td>m</td>\n",
       "    </tr>\n",
       "    <tr>\n",
       "      <td>3</td>\n",
       "      <td>c</td>\n",
       "      <td>f</td>\n",
       "    </tr>\n",
       "    <tr>\n",
       "      <td>4</td>\n",
       "      <td>d</td>\n",
       "      <td>f</td>\n",
       "    </tr>\n",
       "    <tr>\n",
       "      <td>5</td>\n",
       "      <td>e</td>\n",
       "      <td>m</td>\n",
       "    </tr>\n",
       "    <tr>\n",
       "      <td>7</td>\n",
       "      <td>g</td>\n",
       "      <td>m</td>\n",
       "    </tr>\n",
       "  </tbody>\n",
       "</table>\n",
       "</div>"
      ],
      "text/plain": [
       "      Name Gender\n",
       "Stdid            \n",
       "1        a      m\n",
       "3        c      f\n",
       "4        d      f\n",
       "5        e      m\n",
       "7        g      m"
      ]
     },
     "execution_count": 12,
     "metadata": {},
     "output_type": "execute_result"
    }
   ],
   "source": [
    "# to convert uppercase to lowercase  \n",
    "df = df1.applymap(lambda s:s.lower() if type(s) == str else s)\n",
    "df.head()\n",
    "\n"
   ]
  },
  {
   "cell_type": "code",
   "execution_count": null,
   "metadata": {},
   "outputs": [],
   "source": []
  }
 ],
 "metadata": {
  "kernelspec": {
   "display_name": "Python 3",
   "language": "python",
   "name": "python3"
  },
  "language_info": {
   "codemirror_mode": {
    "name": "ipython",
    "version": 3
   },
   "file_extension": ".py",
   "mimetype": "text/x-python",
   "name": "python",
   "nbconvert_exporter": "python",
   "pygments_lexer": "ipython3",
   "version": "3.7.4"
  }
 },
 "nbformat": 4,
 "nbformat_minor": 2
}
